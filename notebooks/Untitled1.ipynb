{
 "cells": [
  {
   "cell_type": "code",
   "execution_count": 1,
   "metadata": {},
   "outputs": [],
   "source": [
    "import pandas as pd"
   ]
  },
  {
   "cell_type": "code",
   "execution_count": 4,
   "metadata": {
    "scrolled": true
   },
   "outputs": [],
   "source": [
    "df = pd.read_stata('D:\\Projects/firm-level.dta')"
   ]
  },
  {
   "cell_type": "code",
   "execution_count": 16,
   "metadata": {
    "scrolled": true
   },
   "outputs": [],
   "source": [
    "with open('D:\\Projects/ChinaCityList.json','r',encoding='utf-8') as f:\n",
    "    cities = f.read()\n",
    "    dic_cities = eval(f)\n"
   ]
  },
  {
   "cell_type": "code",
   "execution_count": 34,
   "metadata": {},
   "outputs": [],
   "source": [
    "provinces_list = []\n",
    "cities_list = []\n",
    "for province in dic_cities:\n",
    "    provinces_list.append(province['name_en'])\n",
    "    for city in province['city']:\n",
    "        cities_list.append(city['county'][0]['name_en'])"
   ]
  },
  {
   "cell_type": "code",
   "execution_count": 89,
   "metadata": {},
   "outputs": [],
   "source": [
    "#cities_list.append(\"ji'nan\")\n",
    "#cities_list.append(\"xi'an\")\n",
    "#cities_list.append(\"hohhot\")\n",
    "cities_list.append(\"lhasa\")\n",
    "cities_list.append(\"ordos\")"
   ]
  },
  {
   "cell_type": "code",
   "execution_count": 79,
   "metadata": {},
   "outputs": [],
   "source": [
    "provinces_list.append(\"Inner-Mongolia Autonomous Region\".lower())"
   ]
  },
  {
   "cell_type": "code",
   "execution_count": 82,
   "metadata": {},
   "outputs": [],
   "source": [
    "provinces_list.append(\"Tibet Autonomous Region\".lower())"
   ]
  },
  {
   "cell_type": "code",
   "execution_count": 83,
   "metadata": {},
   "outputs": [],
   "source": [
    "\n",
    "df_temp['Province'] = df_temp['Regplc_en'].apply(find_pro)"
   ]
  },
  {
   "cell_type": "code",
   "execution_count": 90,
   "metadata": {},
   "outputs": [],
   "source": [
    "df_temp['City'] = df_temp['Regplc_en'].apply(find_cities)"
   ]
  },
  {
   "cell_type": "code",
   "execution_count": 46,
   "metadata": {},
   "outputs": [],
   "source": [
    "def find_pro(S):\n",
    "    for name in provinces_list:\n",
    "        if S.lower().find(name) > -1:\n",
    "            return name"
   ]
  },
  {
   "cell_type": "code",
   "execution_count": 49,
   "metadata": {},
   "outputs": [],
   "source": [
    "def find_cities(S):\n",
    "    for name in cities_list:\n",
    "        if S.lower().find(name) > -1:\n",
    "            return name"
   ]
  },
  {
   "cell_type": "code",
   "execution_count": 96,
   "metadata": {
    "collapsed": true
   },
   "outputs": [
    {
     "data": {
      "text/plain": [
       "array([['Shandong (province) Shouguang (city)'],\n",
       "       ['Heshan, Guangdong'],\n",
       "       ['Linghai, Liaoning'],\n",
       "       ['Shifang, Sichuan'],\n",
       "       ['Henan (province), Luoyan (city)'],\n",
       "       ['Leihe, Henan '],\n",
       "       ['Laizhou, Shandong'],\n",
       "       ['Henan (province), Luoyan (city)'],\n",
       "       ['Huolin Gol, Inner-Mongolia'],\n",
       "       ['Gongyi, Henan'],\n",
       "       ['Gansu (province), Longnan (city)'],\n",
       "       ['Ningguo, Anhui '],\n",
       "       ['Shandong (province), Yucheng (city)'],\n",
       "       ['Shandong (province), Zhucheng (city)'],\n",
       "       ['Puning, Guangdong'],\n",
       "       ['Longkou'],\n",
       "       ['Changge, Henan'],\n",
       "       ['Longkou, Shandong'],\n",
       "       ['Guizhou (province), Buyi and Miao Autonomous Prefecture of QianNan'],\n",
       "       ['Yixing'],\n",
       "       ['Henan (province), Mengzhou (city)'],\n",
       "       ['Shandong (province), Zhaoyuan (city)'],\n",
       "       ['Shandong (province), Zhucheng (city)'],\n",
       "       ['Shouguang, Shandong'],\n",
       "       ['Puning, Guangdong'],\n",
       "       ['Henan (province), Linzhou (city)'],\n",
       "       ['Ningguo, Anhui '],\n",
       "       ['Shandong (province), Jiaozhou (city)'],\n",
       "       ['Henan (province), Yanshi (city)'],\n",
       "       ['Shandong (province), Qufu (city)'],\n",
       "       ['Henan (province), Xinzheng (city)'],\n",
       "       ['Shandong (province), Gaomi (city)'],\n",
       "       ['Shandong (province), Yucheng (city)'],\n",
       "       ['Henan (province), Luoyan (city)'],\n",
       "       ['Shandong (province), Laiyang (city)'],\n",
       "       ['Guangdong (province), Taishan (city)'],\n",
       "       ['Chaohu, Anhui '],\n",
       "       ['Ningguo, Anhui '],\n",
       "       ['Guizhou (province) Qiannan Buyi and Miao Autonomous Prefecture'],\n",
       "       ['Ulanqab'],\n",
       "       ['Shifang, Sichuan'],\n",
       "       ['Longkou, Shandong'],\n",
       "       ['Liuyang, Hunan '],\n",
       "       ['Shandong (province), Zhucheng (city)'],\n",
       "       ['Henan (province), Luoyan (city)'],\n",
       "       ['Longkou, Shandong'],\n",
       "       ['Yingcheng, Hubei '],\n",
       "       ['Chaohu, Anhui '],\n",
       "       ['Leihe, Henan '],\n",
       "       ['Sichuan (province), Tibetan Qiang Autonomous Prefecture of Ngawa'],\n",
       "       [\"Shandong (province) Tai'an (city)\"],\n",
       "       ['Changge, Henan'],\n",
       "       ['Longkou, Shandong'],\n",
       "       ['Liling, Hunan'],\n",
       "       ['Chaohu, Anhui '],\n",
       "       ['Alxa Left Banner, Inner-Mongolia Autonomous Region'],\n",
       "       ['Shifang, Sichuan'],\n",
       "       ['Liupanshui, Guizhou'],\n",
       "       [\"Anhui (province), Lu'an (city)\"],\n",
       "       ['Xichang, Sichuan'],\n",
       "       ['Puning, Guangdong'],\n",
       "       ['Gongyi, Henan'],\n",
       "       ['Liuyang, Hunan '],\n",
       "       ['Guanghan, Sichuan'],\n",
       "       ['Henan (province), Luoyan (city)'],\n",
       "       [\"Sichuan (province), Guang'an (city)\"],\n",
       "       ['Shaanxi (province), Hancheng (city)'],\n",
       "       ['Tibet Autonomous Region'],\n",
       "       ['Henan (province), Luoyan (city)'],\n",
       "       ['Henan (province), Luoyan (city)'],\n",
       "       ['Gongyi, Henan'],\n",
       "       ['Rongcheng, Shandong'],\n",
       "       [\"Anhui (province), Lu'an (city)\"],\n",
       "       ['Linghai, Liaoning'],\n",
       "       ['Henan (province), Luoyan (city)'],\n",
       "       ['Shandong (province) Laoling (city)'],\n",
       "       ['Gansu (province) Longnan (city)'],\n",
       "       ['Heshan, Guangdong'],\n",
       "       ['Henan (province), Luoyan (city)']], dtype=object)"
      ]
     },
     "execution_count": 96,
     "metadata": {},
     "output_type": "execute_result"
    }
   ],
   "source": [
    "df_temp[df_temp[['City']].fillna(0).values == 0][['Regplc_en']].values"
   ]
  },
  {
   "cell_type": "code",
   "execution_count": 99,
   "metadata": {},
   "outputs": [],
   "source": [
    "df_temp.to_csv('D:\\Projects/9_25.csv')"
   ]
  },
  {
   "cell_type": "code",
   "execution_count": 100,
   "metadata": {},
   "outputs": [
    {
     "data": {
      "text/plain": [
       "Int64Index([ 108,  137,  375,  391,  415,  423,  550,  555,  637,  641,  728,\n",
       "             735,  794,  838,  856,  863,  866,  871,  898,  917,  956,  989,\n",
       "             993,  998, 1003, 1042, 1045, 1052, 1067, 1087, 1089, 1102, 1111,\n",
       "            1120, 1230, 1232, 1247, 1262, 1387, 1480, 1522, 1605, 1617, 1667,\n",
       "            1693, 1738, 1816, 2223, 2229, 2290, 2310, 2324, 2367, 2428, 2457,\n",
       "            2466, 2469, 2523, 2591, 2599, 2611, 2680, 2684, 2757, 2961, 3014,\n",
       "            3045, 3049, 3052, 3143, 3154, 3236, 3330, 3418, 3454, 3464, 3631,\n",
       "            3632, 3663],\n",
       "           dtype='int64')"
      ]
     },
     "execution_count": 100,
     "metadata": {},
     "output_type": "execute_result"
    }
   ],
   "source": [
    "df_temp[df_temp[['City']].fillna(0).values == 0].index"
   ]
  },
  {
   "cell_type": "code",
   "execution_count": null,
   "metadata": {},
   "outputs": [],
   "source": []
  }
 ],
 "metadata": {
  "kernelspec": {
   "display_name": "Python 3",
   "language": "python",
   "name": "python3"
  },
  "language_info": {
   "codemirror_mode": {
    "name": "ipython",
    "version": 3
   },
   "file_extension": ".py",
   "mimetype": "text/x-python",
   "name": "python",
   "nbconvert_exporter": "python",
   "pygments_lexer": "ipython3",
   "version": "3.6.8"
  }
 },
 "nbformat": 4,
 "nbformat_minor": 2
}
