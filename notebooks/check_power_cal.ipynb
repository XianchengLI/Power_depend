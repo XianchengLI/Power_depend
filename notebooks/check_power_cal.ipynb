{
 "cells": [
  {
   "cell_type": "code",
   "execution_count": 5,
   "metadata": {},
   "outputs": [],
   "source": [
    "import networkx as nx\n",
    "import matplotlib.pyplot as plt\n",
    "import numpy as np\n",
    "import pandas as pd\n",
    "from sklearn import preprocessing\n",
    "\n",
    "from src.data.Convert_raw import *\n",
    "from src.data.Iter_Cal import *\n",
    "from math import sqrt"
   ]
  },
  {
   "cell_type": "code",
   "execution_count": 2,
   "metadata": {},
   "outputs": [],
   "source": [
    "coun = pd.read_csv('../data/raw/Countries_114.csv', sep=';')\n",
    "\n",
    "coun['index'] = coun.index\n",
    "#coun2ind = coun['id_3char']\n",
    "coun2ind = coun['cid']"
   ]
  },
  {
   "cell_type": "code",
   "execution_count": 9,
   "metadata": {},
   "outputs": [],
   "source": [
    "def filter_conutries(df_year,coun2ind):\n",
    "    df_tmp = df_year[df_year['ori'].isin(coun2ind)]\n",
    "    df_tmp = df_tmp [df_tmp['des'].isin(coun2ind)]\n",
    "    return df_tmp\n",
    "pre_path = 'C:/Users/Xianc/Dropbox/2018_Power_and_dependence_XL_IC_PP/Data_from_OEC/SITC_'\n",
    "year = 1998\n",
    "path = pre_path + str(year) + '.csv'\n",
    "df_year = pd.read_csv(path, header=None)\n",
    "df_year.columns = ['year', 'ori', 'des', 'SITC', 'exp_v', 'imp_v']\n",
    "def export_only(df_year):\n",
    "    df_year = df_year[[ u'ori', u'des', u'exp_v','SITC']]\n",
    "    df_year = df_year[df_year['exp_v'] != 0]\n",
    "    return df_year\n",
    "\n",
    "#df_year = export_only(df_year)"
   ]
  },
  {
   "cell_type": "code",
   "execution_count": 10,
   "metadata": {},
   "outputs": [],
   "source": [
    "dict_coun2ind = coun2ind.to_dict()\n",
    "dict_coun2ind = {v: k for k, v in dict_coun2ind.items()}\n",
    "graph, Cmap,df_agg = scv2nw_all_product(df_year, 0, dict_coun2ind)"
   ]
  },
  {
   "cell_type": "code",
   "execution_count": 13,
   "metadata": {},
   "outputs": [],
   "source": [
    "for node_name in dict_coun2ind.values():\n",
    "    if not (node_name in graph.nodes.keys()):\n",
    "        graph.add_node(node_name)\n",
    "res = cal_power_dependence(graph, 1, 0)"
   ]
  },
  {
   "cell_type": "code",
   "execution_count": null,
   "metadata": {},
   "outputs": [],
   "source": [
    "df_year = pd.read_csv(path, header=None)"
   ]
  },
  {
   "cell_type": "code",
   "execution_count": null,
   "metadata": {},
   "outputs": [],
   "source": []
  }
 ],
 "metadata": {
  "kernelspec": {
   "display_name": "Python 2",
   "language": "python",
   "name": "python2"
  },
  "language_info": {
   "codemirror_mode": {
    "name": "ipython",
    "version": 2
   },
   "file_extension": ".py",
   "mimetype": "text/x-python",
   "name": "python",
   "nbconvert_exporter": "python",
   "pygments_lexer": "ipython2",
   "version": "2.7.13"
  }
 },
 "nbformat": 4,
 "nbformat_minor": 2
}
